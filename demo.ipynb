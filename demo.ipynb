{
 "cells": [
  {
   "cell_type": "code",
   "execution_count": 2,
   "metadata": {},
   "outputs": [],
   "source": [
    "with open(\"sanguo.txt\", encoding='gb18030') as f:\n",
    "    data = f.read()"
   ]
  },
  {
   "cell_type": "code",
   "execution_count": 4,
   "metadata": {},
   "outputs": [
    {
     "name": "stdout",
     "output_type": "stream",
     "text": [
      "《三国演义》（全）\n",
      "\n",
      "（明）羅貫中著\n",
      "\n",
      "  \n",
      "第一回\n",
      "宴桃園豪傑三結義斬黃巾英雄首立功\n",
      "話說天下大勢，分久必合，合久必分：周末七國分爭，並\n",
      "入于秦；及秦滅之後，楚、漢分爭，又並入於漢；漢朝自高祖\n",
      "斬白蛇而起義，一統天下，後來光武中興，傳至獻帝，遂分爲\n",
      "三國。推其致亂之由，殆始於桓、靈二帝。桓帝禁錮善類，崇\n",
      "信宦官。及桓帝崩，靈帝即位，大將軍竇武、太傅陳蕃，共相\n",
      "輔佐。時有宦官曹節等弄權，竇武、陳蕃謀誅之，機事不密，\n",
      "反爲所害。中涓自此愈橫。\n",
      "建寧二年四月望日，帝禦溫德殿。方升座，殿角狂風驟起，\n",
      "只見一條大青蛇，從梁上飛將下來，蟠於椅上。帝驚倒，左右\n",
      "急救入宮，百官俱奔避。須臾，蛇不見了；忽然大\n"
     ]
    }
   ],
   "source": [
    "print(data[:300])"
   ]
  },
  {
   "cell_type": "code",
   "execution_count": 7,
   "metadata": {},
   "outputs": [],
   "source": [
    "with open(\"sanguo-utf8.txt\", 'w', encoding='utf8') as f:\n",
    "    f.write(data)"
   ]
  },
  {
   "cell_type": "code",
   "execution_count": 5,
   "metadata": {},
   "outputs": [],
   "source": [
    "from config import transfer_utf8\n",
    "transfer_utf8(\"sanguo.txt\", \"sanguo-utf8.txt\", input_encoding='gb18030')"
   ]
  }
 ],
 "metadata": {
  "kernelspec": {
   "display_name": "Python 3",
   "language": "python",
   "name": "python3"
  },
  "language_info": {
   "codemirror_mode": {
    "name": "ipython",
    "version": 3
   },
   "file_extension": ".py",
   "mimetype": "text/x-python",
   "name": "python",
   "nbconvert_exporter": "python",
   "pygments_lexer": "ipython3",
   "version": "3.7.3"
  }
 },
 "nbformat": 4,
 "nbformat_minor": 2
}
